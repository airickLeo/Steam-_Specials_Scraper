{
 "cells": [
  {
   "cell_type": "markdown",
   "id": "24e1ff7f",
   "metadata": {},
   "source": [
    "# This script scrapes the top sellers of special deals on steam\n",
    "\n",
    "The data output contains the game name, the original price and the discounted price"
   ]
  },
  {
   "cell_type": "code",
   "execution_count": 1,
   "id": "9354f0c2",
   "metadata": {},
   "outputs": [],
   "source": [
    "import requests\n",
    "import csv\n",
    "from bs4 import BeautifulSoup\n",
    "import pandas as pd\n",
    "import numpy as np\n",
    "import concurrent.futures\n",
    "import threading\n",
    "import time\n",
    "import json"
   ]
  },
  {
   "cell_type": "code",
   "execution_count": 2,
   "id": "3ff054b0",
   "metadata": {
    "scrolled": true
   },
   "outputs": [],
   "source": [
    "# Obtain the source\n",
    "api_url = \"https://store.steampowered.com/contenthub/querypaginated/specials/TopSellers/render/?query=&start=0&count=15&cc=CA&l=english&v=4&tag=\""
   ]
  },
  {
   "cell_type": "code",
   "execution_count": 3,
   "id": "0ec4b21a",
   "metadata": {
    "scrolled": true
   },
   "outputs": [],
   "source": [
    "# Get the data (only the resulting html page from JSON)\n",
    "def get_data(url):\n",
    "    r = requests.get(url)\n",
    "    # Store the data as a dictionary\n",
    "    data = dict(r.json())\n",
    "    return data['results_html']"
   ]
  },
  {
   "cell_type": "code",
   "execution_count": 4,
   "id": "66af2334",
   "metadata": {},
   "outputs": [
    {
     "data": {
      "text/plain": [
       "11470"
      ]
     },
     "execution_count": 4,
     "metadata": {},
     "output_type": "execute_result"
    }
   ],
   "source": [
    "# Get the total number of results\n",
    "def total_results(url):\n",
    "    r = requests.get(url)\n",
    "    # Store the data as a dictionary\n",
    "    data = dict(r.json())\n",
    "    total_results = data['total_count']\n",
    "    return int(total_results)\n",
    "\n",
    "total_results = total_results(api_url)\n",
    "total_results"
   ]
  },
  {
   "cell_type": "code",
   "execution_count": 5,
   "id": "02ece02e",
   "metadata": {},
   "outputs": [
    {
     "data": {
      "text/plain": [
       "15"
      ]
     },
     "execution_count": 5,
     "metadata": {},
     "output_type": "execute_result"
    }
   ],
   "source": [
    "# Get the number of games per page\n",
    "def page_size(url):\n",
    "    r = requests.get(url)\n",
    "    # Store the data as a dictionary\n",
    "    data = dict(r.json())\n",
    "    page_size = data['pagesize']\n",
    "    return int(page_size)\n",
    "\n",
    "games_per_page = page_size(api_url)\n",
    "games_per_page"
   ]
  },
  {
   "cell_type": "code",
   "execution_count": 6,
   "id": "e561977b",
   "metadata": {
    "scrolled": true
   },
   "outputs": [],
   "source": [
    "# Parse to get all the game details\n",
    "def parse(url):\n",
    "    game_list = []\n",
    "    soup = BeautifulSoup(url, 'lxml')\n",
    "    # Since the get_data function filtered out all anchor texts\n",
    "    games = soup.find_all('a')\n",
    "    for game in games:\n",
    "        title = game.find('div', class_ = 'tab_item_name').text.replace(\":\", \"\")\n",
    "        \n",
    "        try:\n",
    "            cur_before_disc = game.find('div', class_ = 'discount_original_price').text.strip().replace(\"CND$\", \"\")\n",
    "            cur_before_disc = cur_before_disc.replace(\"CDN$\", \"\")\n",
    "        \n",
    "        except:\n",
    "            cur_before_disc = \"Not Found\"\n",
    "        \n",
    "        try:\n",
    "            cur_discount_pct = game.find('div', class_ = 'discount_pct').text.replace(\"-\", \"\").replace(\"%\", \"\")\n",
    "            cur_after_disc = game.find('div', class_ = 'discount_final_price').text\n",
    "            cur_after_disc = cur_after_disc.replace(\"CDN$\", \"\")\n",
    "            \n",
    "        except:\n",
    "            cur_discount_pct = 0\n",
    "            cur_after_disc = cur_before_disc\n",
    "        \n",
    "        link = game['href']\n",
    "        game_list.append([title, cur_before_disc, cur_discount_pct, cur_after_disc, link])\n",
    "        \n",
    "    return game_list"
   ]
  },
  {
   "cell_type": "code",
   "execution_count": 7,
   "id": "9d9e0f71",
   "metadata": {},
   "outputs": [],
   "source": [
    "# Create a list to store all the API queries\n",
    "pages = []\n",
    "\n",
    "for x in range(0, total_results, games_per_page):\n",
    "    pages.append(f\"https://store.steampowered.com/contenthub/querypaginated/specials/TopSellers/render/?query=&start={x}&count=15&cc=CA&l=english&v=4&tag=\")\n",
    "    \n",
    "with concurrent.futures.ThreadPoolExecutor() as executor:\n",
    "    results = executor.map(get_data, pages)\n",
    "    \n",
    "pages = list(results)\n",
    "    "
   ]
  },
  {
   "cell_type": "code",
   "execution_count": 8,
   "id": "f9fa8af0",
   "metadata": {
    "scrolled": true
   },
   "outputs": [
    {
     "data": {
      "text/html": [
       "<div>\n",
       "<style scoped>\n",
       "    .dataframe tbody tr th:only-of-type {\n",
       "        vertical-align: middle;\n",
       "    }\n",
       "\n",
       "    .dataframe tbody tr th {\n",
       "        vertical-align: top;\n",
       "    }\n",
       "\n",
       "    .dataframe thead th {\n",
       "        text-align: right;\n",
       "    }\n",
       "</style>\n",
       "<table border=\"1\" class=\"dataframe\">\n",
       "  <thead>\n",
       "    <tr style=\"text-align: right;\">\n",
       "      <th></th>\n",
       "      <th>Name</th>\n",
       "      <th>Before Discount $</th>\n",
       "      <th>Discount Percentage %</th>\n",
       "      <th>After Discount $</th>\n",
       "      <th>Link</th>\n",
       "    </tr>\n",
       "  </thead>\n",
       "  <tbody>\n",
       "    <tr>\n",
       "      <th>0</th>\n",
       "      <td>Raft</td>\n",
       "      <td>21.99</td>\n",
       "      <td>15</td>\n",
       "      <td>18.69</td>\n",
       "      <td>https://store.steampowered.com/app/648800/Raft...</td>\n",
       "    </tr>\n",
       "    <tr>\n",
       "      <th>1</th>\n",
       "      <td>Ready or Not</td>\n",
       "      <td>45.99</td>\n",
       "      <td>10</td>\n",
       "      <td>41.39</td>\n",
       "      <td>https://store.steampowered.com/app/1144200/Rea...</td>\n",
       "    </tr>\n",
       "    <tr>\n",
       "      <th>2</th>\n",
       "      <td>Sea of Thieves</td>\n",
       "      <td>49.99</td>\n",
       "      <td>50</td>\n",
       "      <td>24.99</td>\n",
       "      <td>https://store.steampowered.com/app/1172620/Sea...</td>\n",
       "    </tr>\n",
       "    <tr>\n",
       "      <th>3</th>\n",
       "      <td>MONSTER HUNTER RISE</td>\n",
       "      <td>79.99</td>\n",
       "      <td>49</td>\n",
       "      <td>40.79</td>\n",
       "      <td>https://store.steampowered.com/app/1446780/MON...</td>\n",
       "    </tr>\n",
       "    <tr>\n",
       "      <th>4</th>\n",
       "      <td>God of War</td>\n",
       "      <td>59.99</td>\n",
       "      <td>20</td>\n",
       "      <td>47.99</td>\n",
       "      <td>https://store.steampowered.com/app/1593500/God...</td>\n",
       "    </tr>\n",
       "    <tr>\n",
       "      <th>...</th>\n",
       "      <td>...</td>\n",
       "      <td>...</td>\n",
       "      <td>...</td>\n",
       "      <td>...</td>\n",
       "      <td>...</td>\n",
       "    </tr>\n",
       "    <tr>\n",
       "      <th>11465</th>\n",
       "      <td>Superfighters Deluxe</td>\n",
       "      <td>11.49</td>\n",
       "      <td>60</td>\n",
       "      <td>4.59</td>\n",
       "      <td>https://store.steampowered.com/app/855860/Supe...</td>\n",
       "    </tr>\n",
       "    <tr>\n",
       "      <th>11466</th>\n",
       "      <td>Refactor</td>\n",
       "      <td>5.69</td>\n",
       "      <td>20</td>\n",
       "      <td>4.55</td>\n",
       "      <td>https://store.steampowered.com/app/1664670/Ref...</td>\n",
       "    </tr>\n",
       "    <tr>\n",
       "      <th>11467</th>\n",
       "      <td>Whiplash - Crash Valley</td>\n",
       "      <td>5.69</td>\n",
       "      <td>90</td>\n",
       "      <td>0.56</td>\n",
       "      <td>https://store.steampowered.com/app/552130/Whip...</td>\n",
       "    </tr>\n",
       "    <tr>\n",
       "      <th>11468</th>\n",
       "      <td>Lifeslide</td>\n",
       "      <td>11.49</td>\n",
       "      <td>50</td>\n",
       "      <td>5.74</td>\n",
       "      <td>https://store.steampowered.com/app/956140/Life...</td>\n",
       "    </tr>\n",
       "    <tr>\n",
       "      <th>11469</th>\n",
       "      <td>STASIS</td>\n",
       "      <td>11.49</td>\n",
       "      <td>69</td>\n",
       "      <td>3.56</td>\n",
       "      <td>https://store.steampowered.com/app/380150/STAS...</td>\n",
       "    </tr>\n",
       "  </tbody>\n",
       "</table>\n",
       "<p>11470 rows × 5 columns</p>\n",
       "</div>"
      ],
      "text/plain": [
       "                          Name Before Discount $ Discount Percentage %  \\\n",
       "0                         Raft             21.99                    15   \n",
       "1                 Ready or Not             45.99                    10   \n",
       "2               Sea of Thieves             49.99                    50   \n",
       "3          MONSTER HUNTER RISE             79.99                    49   \n",
       "4                   God of War             59.99                    20   \n",
       "...                        ...               ...                   ...   \n",
       "11465     Superfighters Deluxe             11.49                    60   \n",
       "11466                 Refactor              5.69                    20   \n",
       "11467  Whiplash - Crash Valley              5.69                    90   \n",
       "11468                Lifeslide             11.49                    50   \n",
       "11469                   STASIS             11.49                    69   \n",
       "\n",
       "      After Discount $                                               Link  \n",
       "0                18.69  https://store.steampowered.com/app/648800/Raft...  \n",
       "1                41.39  https://store.steampowered.com/app/1144200/Rea...  \n",
       "2                24.99  https://store.steampowered.com/app/1172620/Sea...  \n",
       "3                40.79  https://store.steampowered.com/app/1446780/MON...  \n",
       "4                47.99  https://store.steampowered.com/app/1593500/God...  \n",
       "...                ...                                                ...  \n",
       "11465             4.59  https://store.steampowered.com/app/855860/Supe...  \n",
       "11466             4.55  https://store.steampowered.com/app/1664670/Ref...  \n",
       "11467             0.56  https://store.steampowered.com/app/552130/Whip...  \n",
       "11468             5.74  https://store.steampowered.com/app/956140/Life...  \n",
       "11469             3.56  https://store.steampowered.com/app/380150/STAS...  \n",
       "\n",
       "[11470 rows x 5 columns]"
      ]
     },
     "execution_count": 8,
     "metadata": {},
     "output_type": "execute_result"
    }
   ],
   "source": [
    "# Create a threading pool and feed the queries to BeautifulSoup\n",
    "with concurrent.futures.ThreadPoolExecutor() as executor:\n",
    "    results = executor.map(parse, pages)\n",
    "\n",
    "# Create a final list to convert into DataFrame\n",
    "final_list = []\n",
    "    \n",
    "for result in results:\n",
    "    final_list += result\n",
    "    \n",
    "final_list = pd.DataFrame(final_list, columns = ['Name', 'Before Discount $', \n",
    "                                                 \"Discount Percentage %\", 'After Discount $', 'Link'])\n",
    "final_list"
   ]
  },
  {
   "cell_type": "code",
   "execution_count": 9,
   "id": "49a48838",
   "metadata": {},
   "outputs": [],
   "source": [
    "# Export to CSV\n",
    "final_list.to_csv('Games Special.csv', index = False, encoding = \"utf-8-sig\")"
   ]
  }
 ],
 "metadata": {
  "kernelspec": {
   "display_name": "Python 3",
   "language": "python",
   "name": "python3"
  },
  "language_info": {
   "codemirror_mode": {
    "name": "ipython",
    "version": 3
   },
   "file_extension": ".py",
   "mimetype": "text/x-python",
   "name": "python",
   "nbconvert_exporter": "python",
   "pygments_lexer": "ipython3",
   "version": "3.8.8"
  }
 },
 "nbformat": 4,
 "nbformat_minor": 5
}
